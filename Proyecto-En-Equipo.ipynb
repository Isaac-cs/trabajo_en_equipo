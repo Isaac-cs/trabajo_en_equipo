{
 "cells": [
  {
   "cell_type": "code",
   "execution_count": 1,
   "metadata": {},
   "outputs": [],
   "source": [
    "import numpy as np\n",
    "import pandas as pd\n",
    "import matplotlib.pyplot as plt\n",
    "import seaborn as sns\n",
    "\n",
    "from datetime import datetime"
   ]
  },
  {
   "cell_type": "code",
   "execution_count": 2,
   "metadata": {},
   "outputs": [],
   "source": [
    "def distancia(p1, p2):\n",
    "    return np.sqrt(sum([(p - q)**2 for p, q in zip(p1, p2)]))\n",
    "\n",
    "def dist_id(id_):\n",
    "    a = accs[accs.id_ == id_][accs.columns[-3:]]\n",
    "    return sum([distancia(a.iloc[i], a.iloc[i + 1]) for i in range(a.shape[0] - 1)])"
   ]
  },
  {
   "cell_type": "code",
   "execution_count": 3,
   "metadata": {},
   "outputs": [],
   "source": [
    "peso = 75"
   ]
  },
  {
   "cell_type": "code",
   "execution_count": 4,
   "metadata": {},
   "outputs": [
    {
     "data": {
      "text/plain": [
       "((1459482, 3), (1459482, 3), (1459482, 3))"
      ]
     },
     "execution_count": 4,
     "metadata": {},
     "output_type": "execute_result"
    }
   ],
   "source": [
    "accs_x = pd.read_csv(\"accs_x.csv\")\n",
    "accs_y = pd.read_csv(\"accs_y.csv\")\n",
    "accs_z = pd.read_csv(\"accs_z.csv\") \n",
    "accs_x.shape, accs_y.shape, accs_z.shape"
   ]
  },
  {
   "cell_type": "code",
   "execution_count": 5,
   "metadata": {},
   "outputs": [],
   "source": [
    "accs_x.rename(columns = {'value_acc': 'value_acc_x'}, inplace = True)\n",
    "accs_y.rename(columns = {'value_acc': 'value_acc_y'}, inplace = True)\n",
    "accs_z.rename(columns = {'value_acc': 'value_acc_z'}, inplace = True)\n",
    "\n",
    "accs = pd.concat([accs_x, accs_y.iloc[:,-1], accs_z.iloc[:,-1]], axis = 1)"
   ]
  },
  {
   "cell_type": "code",
   "execution_count": 6,
   "metadata": {},
   "outputs": [
    {
     "data": {
      "text/html": [
       "<div>\n",
       "<style scoped>\n",
       "    .dataframe tbody tr th:only-of-type {\n",
       "        vertical-align: middle;\n",
       "    }\n",
       "\n",
       "    .dataframe tbody tr th {\n",
       "        vertical-align: top;\n",
       "    }\n",
       "\n",
       "    .dataframe thead th {\n",
       "        text-align: right;\n",
       "    }\n",
       "</style>\n",
       "<table border=\"1\" class=\"dataframe\">\n",
       "  <thead>\n",
       "    <tr style=\"text-align: right;\">\n",
       "      <th></th>\n",
       "      <th>id_</th>\n",
       "      <th>time_ref</th>\n",
       "      <th>value_acc_x</th>\n",
       "      <th>value_acc_y</th>\n",
       "      <th>value_acc_z</th>\n",
       "    </tr>\n",
       "  </thead>\n",
       "  <tbody>\n",
       "    <tr>\n",
       "      <th>0</th>\n",
       "      <td>0</td>\n",
       "      <td>accx_minus_0000</td>\n",
       "      <td>-0.837891</td>\n",
       "      <td>0.300049</td>\n",
       "      <td>-0.437500</td>\n",
       "    </tr>\n",
       "    <tr>\n",
       "      <th>1</th>\n",
       "      <td>0</td>\n",
       "      <td>accx_minus_0001</td>\n",
       "      <td>-0.850586</td>\n",
       "      <td>0.297119</td>\n",
       "      <td>-0.448242</td>\n",
       "    </tr>\n",
       "    <tr>\n",
       "      <th>2</th>\n",
       "      <td>0</td>\n",
       "      <td>accx_minus_0002</td>\n",
       "      <td>-0.835449</td>\n",
       "      <td>0.309814</td>\n",
       "      <td>-0.450928</td>\n",
       "    </tr>\n",
       "    <tr>\n",
       "      <th>3</th>\n",
       "      <td>0</td>\n",
       "      <td>accx_minus_0003</td>\n",
       "      <td>-0.839844</td>\n",
       "      <td>0.322021</td>\n",
       "      <td>-0.442383</td>\n",
       "    </tr>\n",
       "    <tr>\n",
       "      <th>4</th>\n",
       "      <td>0</td>\n",
       "      <td>accx_minus_0004</td>\n",
       "      <td>-0.842285</td>\n",
       "      <td>0.277344</td>\n",
       "      <td>-0.418945</td>\n",
       "    </tr>\n",
       "    <tr>\n",
       "      <th>...</th>\n",
       "      <td>...</td>\n",
       "      <td>...</td>\n",
       "      <td>...</td>\n",
       "      <td>...</td>\n",
       "      <td>...</td>\n",
       "    </tr>\n",
       "    <tr>\n",
       "      <th>1459477</th>\n",
       "      <td>1401</td>\n",
       "      <td>accx_minus_1036</td>\n",
       "      <td>-0.009521</td>\n",
       "      <td>-0.009521</td>\n",
       "      <td>-0.009521</td>\n",
       "    </tr>\n",
       "    <tr>\n",
       "      <th>1459478</th>\n",
       "      <td>1401</td>\n",
       "      <td>accx_minus_1037</td>\n",
       "      <td>-0.017090</td>\n",
       "      <td>-0.017090</td>\n",
       "      <td>-0.017090</td>\n",
       "    </tr>\n",
       "    <tr>\n",
       "      <th>1459479</th>\n",
       "      <td>1401</td>\n",
       "      <td>accx_minus_1038</td>\n",
       "      <td>-0.018066</td>\n",
       "      <td>-0.018066</td>\n",
       "      <td>-0.018066</td>\n",
       "    </tr>\n",
       "    <tr>\n",
       "      <th>1459480</th>\n",
       "      <td>1401</td>\n",
       "      <td>accx_minus_1039</td>\n",
       "      <td>0.009521</td>\n",
       "      <td>0.009521</td>\n",
       "      <td>0.009521</td>\n",
       "    </tr>\n",
       "    <tr>\n",
       "      <th>1459481</th>\n",
       "      <td>1401</td>\n",
       "      <td>accx_minus_1040</td>\n",
       "      <td>0.000977</td>\n",
       "      <td>0.000977</td>\n",
       "      <td>0.000977</td>\n",
       "    </tr>\n",
       "  </tbody>\n",
       "</table>\n",
       "<p>1459482 rows × 5 columns</p>\n",
       "</div>"
      ],
      "text/plain": [
       "          id_         time_ref  value_acc_x  value_acc_y  value_acc_z\n",
       "0           0  accx_minus_0000    -0.837891     0.300049    -0.437500\n",
       "1           0  accx_minus_0001    -0.850586     0.297119    -0.448242\n",
       "2           0  accx_minus_0002    -0.835449     0.309814    -0.450928\n",
       "3           0  accx_minus_0003    -0.839844     0.322021    -0.442383\n",
       "4           0  accx_minus_0004    -0.842285     0.277344    -0.418945\n",
       "...       ...              ...          ...          ...          ...\n",
       "1459477  1401  accx_minus_1036    -0.009521    -0.009521    -0.009521\n",
       "1459478  1401  accx_minus_1037    -0.017090    -0.017090    -0.017090\n",
       "1459479  1401  accx_minus_1038    -0.018066    -0.018066    -0.018066\n",
       "1459480  1401  accx_minus_1039     0.009521     0.009521     0.009521\n",
       "1459481  1401  accx_minus_1040     0.000977     0.000977     0.000977\n",
       "\n",
       "[1459482 rows x 5 columns]"
      ]
     },
     "execution_count": 6,
     "metadata": {},
     "output_type": "execute_result"
    }
   ],
   "source": [
    "accs"
   ]
  },
  {
   "cell_type": "code",
   "execution_count": null,
   "metadata": {},
   "outputs": [],
   "source": [
    "%%time\n",
    "energy = pd.read_csv(\"energy.csv\")\n",
    "#energy.drop(\"totalTime_energy\", axis = 1, inplace = True)\n",
    "\n",
    "\n",
    "energy.date_Hr = energy.date_Hr.apply(lambda x : datetime.strptime(x, \"%Y-%m-%d %H:%M:%S\"))\n",
    "energy.startDate_energy = energy.startDate_energy.apply(lambda x : datetime.strptime(x, \"%Y-%m-%d %H:%M:%S\"))\n",
    "energy.endDate_energy = energy.endDate_energy.apply(lambda x : datetime.strptime(x, \"%Y-%m-%d %H:%M:%S\"))\n",
    "\n",
    "energy[\"distance\"] = energy.id_.apply(dist_id)"
   ]
  },
  {
   "cell_type": "code",
   "execution_count": null,
   "metadata": {},
   "outputs": [],
   "source": [
    "energy[\"MET\"] = [energy/(peso * time/3600) for energy, time in zip(energy.value_energy, energy.totalTime_energy)]"
   ]
  },
  {
   "cell_type": "code",
   "execution_count": null,
   "metadata": {},
   "outputs": [],
   "source": [
    "energy.info()"
   ]
  },
  {
   "cell_type": "code",
   "execution_count": null,
   "metadata": {},
   "outputs": [],
   "source": [
    "energy"
   ]
  },
  {
   "cell_type": "code",
   "execution_count": null,
   "metadata": {},
   "outputs": [],
   "source": [
    "explicacion = pd.read_excel(\"explicacion_variables.xlsx\")\n",
    "explicacion"
   ]
  },
  {
   "cell_type": "code",
   "execution_count": null,
   "metadata": {},
   "outputs": [],
   "source": [
    "energy[energy.date_Hr == energy.date_Hr.unique()[80]]"
   ]
  },
  {
   "cell_type": "code",
   "execution_count": null,
   "metadata": {},
   "outputs": [],
   "source": [
    "sns.scatterplot(energy.MET, energy.distance)"
   ]
  },
  {
   "cell_type": "code",
   "execution_count": null,
   "metadata": {},
   "outputs": [],
   "source": [
    "energy[[\"MET\", \"distance\"]].sort_values(\"MET\", ascending = False)"
   ]
  },
  {
   "cell_type": "code",
   "execution_count": null,
   "metadata": {},
   "outputs": [],
   "source": [
    "sns.scatterplot(energy.value_energy, energy.value_Hr)"
   ]
  },
  {
   "cell_type": "code",
   "execution_count": null,
   "metadata": {},
   "outputs": [],
   "source": [
    "sns.distplot(energy.value_energy)"
   ]
  },
  {
   "cell_type": "code",
   "execution_count": null,
   "metadata": {},
   "outputs": [],
   "source": [
    "sns.distplot(energy.value_Hr)"
   ]
  },
  {
   "cell_type": "code",
   "execution_count": null,
   "metadata": {},
   "outputs": [],
   "source": [
    "sns.scatterplot(energy.distance, energy.value_Hr)"
   ]
  },
  {
   "cell_type": "code",
   "execution_count": null,
   "metadata": {},
   "outputs": [],
   "source": [
    "sns.distplot(energy.distance)"
   ]
  },
  {
   "cell_type": "code",
   "execution_count": null,
   "metadata": {},
   "outputs": [],
   "source": [
    "plt.plot(accs[accs.id_ == 600].iloc[:, 2], accs[accs.id_ == 600].iloc[:, 3])"
   ]
  },
  {
   "cell_type": "code",
   "execution_count": null,
   "metadata": {},
   "outputs": [],
   "source": [
    "from mpl_toolkits.mplot3d import Axes3D\n",
    "\n",
    "x = accs[accs.id_ == 600].iloc[:, 2].tolist()\n",
    "y = accs[accs.id_ == 600].iloc[:, 3].tolist()\n",
    "z = accs[accs.id_ == 600].iloc[:, 4].tolist()\n",
    "\n",
    "fig = plt.figure()\n",
    "ax = fig.gca(projection = \"3d\")\n",
    "ax.plot(x, y, z)"
   ]
  },
  {
   "cell_type": "code",
   "execution_count": null,
   "metadata": {},
   "outputs": [],
   "source": []
  }
 ],
 "metadata": {
  "kernelspec": {
   "display_name": "Python 3",
   "language": "python",
   "name": "python3"
  },
  "language_info": {
   "codemirror_mode": {
    "name": "ipython",
    "version": 3
   },
   "file_extension": ".py",
   "mimetype": "text/x-python",
   "name": "python",
   "nbconvert_exporter": "python",
   "pygments_lexer": "ipython3",
   "version": "3.7.6"
  }
 },
 "nbformat": 4,
 "nbformat_minor": 4
}
